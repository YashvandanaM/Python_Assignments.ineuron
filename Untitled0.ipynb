{
  "nbformat": 4,
  "nbformat_minor": 0,
  "metadata": {
    "colab": {
      "name": "Untitled0.ipynb",
      "provenance": [],
      "collapsed_sections": []
    },
    "kernelspec": {
      "name": "python3",
      "display_name": "Python 3"
    },
    "language_info": {
      "name": "python"
    }
  },
  "cells": [
    {
      "cell_type": "code",
      "source": [
        "                        #ASSIGNMENT_2\n",
        "#Program to convert kilometres to miles\n",
        "a=int(input(\"Enter the kilometers:\"))\n",
        "mile= a * 0.621\n",
        "print(int(mile))"
      ],
      "metadata": {
        "colab": {
          "base_uri": "https://localhost:8080/"
        },
        "id": "At2iK85scH9N",
        "outputId": "fa6a0958-f8f8-4895-c3a0-30f82da2379d"
      },
      "execution_count": 21,
      "outputs": [
        {
          "output_type": "stream",
          "name": "stdout",
          "text": [
            "Enter the kilometers:72\n",
            "44\n"
          ]
        }
      ]
    },
    {
      "cell_type": "code",
      "source": [
        "#Program to convert celsius to farenheit\n",
        "a = int(input(\"Enter degree of celcius:\"))\n",
        "f= a * 1.8 + 32\n",
        "print(\"Farenheit=\")\n",
        "print(int(f))"
      ],
      "metadata": {
        "colab": {
          "base_uri": "https://localhost:8080/"
        },
        "id": "nXXDbRDbcYgD",
        "outputId": "409cdbf2-a304-48db-b8e4-b0fbf85edb4a"
      },
      "execution_count": 14,
      "outputs": [
        {
          "output_type": "stream",
          "name": "stdout",
          "text": [
            "Enter degree of celcius:37\n",
            "Farenheit=\n",
            "98\n"
          ]
        }
      ]
    },
    {
      "cell_type": "code",
      "source": [
        "#Program to display calendar\n",
        "import calendar\n",
        "y=2003\n",
        "m=1\n",
        "print(calendar.month(y,m))"
      ],
      "metadata": {
        "colab": {
          "base_uri": "https://localhost:8080/"
        },
        "id": "Y8OmB_QLd-Tp",
        "outputId": "d15a12b1-eef1-4775-9569-f52662d4ca9c"
      },
      "execution_count": 15,
      "outputs": [
        {
          "output_type": "stream",
          "name": "stdout",
          "text": [
            "    January 2003\n",
            "Mo Tu We Th Fr Sa Su\n",
            "       1  2  3  4  5\n",
            " 6  7  8  9 10 11 12\n",
            "13 14 15 16 17 18 19\n",
            "20 21 22 23 24 25 26\n",
            "27 28 29 30 31\n",
            "\n"
          ]
        }
      ]
    },
    {
      "cell_type": "code",
      "source": [
        "#Program to solve quadratic equation\n",
        "import cmath\n",
        "a=int(input(\"a=\"))\n",
        "b=int(input(\"b=\"))\n",
        "c=int(input(\"c=\"))\n",
        "d=(b**2)-(4*a*c)\n",
        "root1=(-b-cmath.sqrt(d))/(2*a)\n",
        "root2=(-b+cmath.sqrt(d))/(2*a)\n",
        "print(\"The solutins are {0} and {1}\".format(root1,root2))\n"
      ],
      "metadata": {
        "colab": {
          "base_uri": "https://localhost:8080/"
        },
        "id": "cXSrbwIrifFx",
        "outputId": "6fdcd83d-8cc4-4791-ef0c-092c37648c83"
      },
      "execution_count": 19,
      "outputs": [
        {
          "output_type": "stream",
          "name": "stdout",
          "text": [
            "a=2\n",
            "b=3\n",
            "c=1\n",
            "The solutins are (-1+0j) and (-0.5+0j)\n"
          ]
        }
      ]
    },
    {
      "cell_type": "code",
      "source": [
        "#Program to swap two variables without using temp variable\n",
        "a = int(input(\"Enter the variable a :\"))\n",
        "b = int(input(\"Enter the variable b :\"))\n",
        "a=a+b\n",
        "b=a-b\n",
        "a=a-b\n",
        "print(\"a is\",a,\"b is\",b)"
      ],
      "metadata": {
        "colab": {
          "base_uri": "https://localhost:8080/"
        },
        "id": "LfDPLypCv3s2",
        "outputId": "cb570b61-0164-46c5-c538-6388dd6f329e"
      },
      "execution_count": 20,
      "outputs": [
        {
          "output_type": "stream",
          "name": "stdout",
          "text": [
            "Enter the variable a :72\n",
            "Enter the variable b :123\n",
            "a is 123 b is 72\n"
          ]
        }
      ]
    },
    {
      "cell_type": "code",
      "source": [
        ""
      ],
      "metadata": {
        "id": "fCoVsGcWv_Wd"
      },
      "execution_count": null,
      "outputs": []
    }
  ]
}