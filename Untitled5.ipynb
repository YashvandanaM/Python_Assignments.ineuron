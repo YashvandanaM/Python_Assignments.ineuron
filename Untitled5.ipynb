{
  "nbformat": 4,
  "nbformat_minor": 0,
  "metadata": {
    "colab": {
      "name": "Untitled5.ipynb",
      "provenance": [],
      "collapsed_sections": []
    },
    "kernelspec": {
      "name": "python3",
      "display_name": "Python 3"
    },
    "language_info": {
      "name": "python"
    }
  },
  "cells": [
    {
      "cell_type": "code",
      "execution_count": 1,
      "metadata": {
        "colab": {
          "base_uri": "https://localhost:8080/"
        },
        "id": "ypqXnGwxi1Dm",
        "outputId": "25ef078b-41fd-4e5c-aece-e70f264f7641"
      },
      "outputs": [
        {
          "output_type": "stream",
          "name": "stdout",
          "text": [
            "Hello python\n"
          ]
        }
      ],
      "source": [
        "#1.This is a program to print hello python\n",
        "print(\"Hello python\")"
      ]
    },
    {
      "cell_type": "code",
      "source": [
        "#2.program to perform arithmetic operations addition and division\n",
        "a=10\n",
        "b=2\n",
        "print(a+b)\n",
        "print(a/b)"
      ],
      "metadata": {
        "colab": {
          "base_uri": "https://localhost:8080/"
        },
        "id": "c-H_Yon6i72r",
        "outputId": "9c6a2ac2-f8cb-49a1-8526-f16259751de2"
      },
      "execution_count": 2,
      "outputs": [
        {
          "output_type": "stream",
          "name": "stdout",
          "text": [
            "12\n",
            "5.0\n"
          ]
        }
      ]
    },
    {
      "cell_type": "code",
      "source": [
        "#3.To find area of triangle\n",
        "a=int(input(\"Enter the height:\"))\n",
        "b=int(input(\"Enter the breadth:\"))\n",
        "area = ((1/2)*a*b)\n",
        "print(\"Area of triangle:\")\n",
        "print(area)"
      ],
      "metadata": {
        "colab": {
          "base_uri": "https://localhost:8080/"
        },
        "id": "IPu3eL0wjEkE",
        "outputId": "e3837df7-3868-407c-e0c0-5ab8d4a80344"
      },
      "execution_count": 3,
      "outputs": [
        {
          "output_type": "stream",
          "name": "stdout",
          "text": [
            "Enter the height:2\n",
            "Enter the breadth:4\n",
            "Area of triangle:\n",
            "4.0\n"
          ]
        }
      ]
    },
    {
      "cell_type": "code",
      "source": [
        "#4.To swap two variables\n",
        "a=int(input(\"Enter value of a:\"))\n",
        "b=int(input(\"Enter value of b:\"))\n",
        "t=a\n",
        "a=b\n",
        "b=t\n",
        "print(a,b)"
      ],
      "metadata": {
        "colab": {
          "base_uri": "https://localhost:8080/"
        },
        "id": "IGoX82VgjJXE",
        "outputId": "71b44f74-b358-43d2-8537-9e05480587b4"
      },
      "execution_count": 4,
      "outputs": [
        {
          "output_type": "stream",
          "name": "stdout",
          "text": [
            "Enter value of a:72\n",
            "Enter value of b:123\n",
            "123 72\n"
          ]
        }
      ]
    },
    {
      "cell_type": "code",
      "source": [
        "#5.To generate a random number\n",
        "import random\n",
        "print(random.randint(0,1000))"
      ],
      "metadata": {
        "colab": {
          "base_uri": "https://localhost:8080/"
        },
        "id": "tx-QuPuKjidp",
        "outputId": "f2092cd2-0f7b-4185-88ba-3951f048aa39"
      },
      "execution_count": 5,
      "outputs": [
        {
          "output_type": "stream",
          "name": "stdout",
          "text": [
            "44\n"
          ]
        }
      ]
    },
    {
      "cell_type": "code",
      "source": [
        ""
      ],
      "metadata": {
        "id": "Z3kXvMyOjxQj"
      },
      "execution_count": null,
      "outputs": []
    }
  ]
}